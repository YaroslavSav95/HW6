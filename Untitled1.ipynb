{
  "nbformat": 4,
  "nbformat_minor": 0,
  "metadata": {
    "colab": {
      "provenance": [],
      "authorship_tag": "ABX9TyNhwTNAmuDxTgf3+7KNHAr7"
    },
    "kernelspec": {
      "name": "python3",
      "display_name": "Python 3"
    },
    "language_info": {
      "name": "python"
    }
  },
  "cells": [
    {
      "cell_type": "code",
      "execution_count": null,
      "metadata": {
        "id": "8P7KZyrTQE35"
      },
      "outputs": [],
      "source": [
        "# # Задайте список из вещественных чисел. Напишите программу, которая найдёт разницу между максимальным и минимальным значением дробной части элементов.\n",
        "# # Пример:\n",
        "# # - [1.1, 1.2, 3.1, 10.01] => 0.19\n",
        "\n",
        "lst = list(map(float, input(\"Введите числа через пробел:\\n\").split()))\n",
        "new_lst = [round(i%1,2) for i in lst if i%1 != 0]\n",
        "print(max(new_lst) - min(new_lst))"
      ]
    },
    {
      "cell_type": "code",
      "source": [
        "# Задайте список из N элементов, заполненных числами из промежутка [-N, N].\n",
        "# Найдите произведение элементов на указанных индексах. Индексы вводятся одной строкой, через пробел.\n",
        "# n = 3\n",
        "# [-3, -2, -1, 0, 1, 2, 3]\n",
        "# --> 0 2 3\n",
        "# -3 * -1 * 0 = 0\n",
        "# Вывод: 0\n",
        "\n",
        "lt=[]\n",
        "lt1=[]\n",
        "a=int(input('Введите число '))\n",
        "for i in range(0,a):\n",
        "    lt.append(i-a)\n",
        "for i in range(0,a+1):\n",
        "    lt1.append(i)\n",
        "lts=lt+lt1\n",
        "print('Список ', lts)\n",
        "q, w, e=map(int,input('Введите три индекса через пробел ').split())\n",
        "sum=lts[q]*lts[w]*lts[e]\n",
        "print('Произведение элементов ', sum)"
      ],
      "metadata": {
        "id": "JRDQVfUoQSAx"
      },
      "execution_count": null,
      "outputs": []
    },
    {
      "cell_type": "code",
      "source": [
        "# Даны два файла, в каждом из которых находится запись многочлена.\n",
        "# Задача - сформировать файл, содержащий сумму многочленов (складываются числа, у которых \"х\" в одинаковых степенях).\n",
        "\n",
        "# Пример того, что будет в итогвом файле: 8*(x**4) + 9*(x**3) + 1*(x**2) + 5*x + 4 = 0\n",
        "\n",
        "import re\n",
        "import itertools\n",
        "\n",
        "file_1='first.txt'\n",
        "file_2='second.txt'\n",
        "file_3='result.txt'\n",
        "\n",
        "def read(file):\n",
        "    with open(str(file), 'r') as data:\n",
        "        poly=data.read\n",
        "    return poly\n",
        "\n",
        "def change_poly(poly):\n",
        "    poly=poly.replace('=0', '')\n",
        "    poly=re.sub(\"[*|^| \", \" \", poly).split('+')\n",
        "    poly=[char.split(' ') for char in poly]\n",
        "    poly=[[x for x in list if x] for list in poly]\n",
        "    for i in poly:\n",
        "        if i[0] == 'x':i.insert(0,1)\n",
        "        if i[-1] == 'x': i.append(1)\n",
        "        if len(i) == 1: i.append(0)\n",
        "    poly=[tuple(int(x) for x in j if x!='x') for j in poly]\n",
        "    return poly\n",
        "\n",
        "def fold_polys(poly1, poly2):   \n",
        "    x = [0] * (max(poly1[0][1], poly2[0][1] + 1))\n",
        "    for i in poly1 + poly2:        \n",
        "        x[i[1]] += i[0]\n",
        "    res = [(x[i], i) for i in range(len(x)) if x[i] != 0]\n",
        "    res.sort(key = lambda r: r[1], reverse = True)\n",
        "    return res\n",
        "\n",
        "def get_sum_pol(poly):\n",
        "    var = ['*x^'] * len(poly)\n",
        "    coefs = [x[0] for x in poly]\n",
        "    degrees = [x[1] for x in poly]\n",
        "    new_poly = [[str(a), str(b), str(c)] for a, b, c in (zip(coefs, var, degrees))]\n",
        "    for x in new_poly:\n",
        "        if x[0] == '0': del (x[0])\n",
        "        if x[-1] == '0': del (x[-1], x[-1])\n",
        "        if len(x) > 1 and x[0] == '1' and x[1] == '*x^': del (x[0], x[0][0])\n",
        "        if len(x) > 1 and x[-1] == '1': \n",
        "            del x[-1]\n",
        "            x[-1] = '*x'\n",
        "        x.append(' + ')\n",
        "    new_poly = list(itertools.chain(*new_poly))\n",
        "    new_poly[-1] = ' = 0'\n",
        "    return \"\".join(map(str, new_poly))\n",
        "\n",
        "def write_to_file(file, poly):\n",
        "    with open(file, 'w') as data:\n",
        "        data.write(poly)\n",
        "\n",
        "poly1 = read(file_1)\n",
        "poly2 = read(file_2)\n",
        "poly_1 = change_poly(poly1)\n",
        "poly_2 = change_poly(poly2)\n",
        "\n",
        "poly_sum = get_sum_pol(fold_polys(poly_1, poly_2))\n",
        "write_to_file(file_3, poly_sum)\n",
        "\n",
        "print(poly1)\n",
        "print(poly2)\n",
        "print(poly_sum)"
      ],
      "metadata": {
        "id": "5gnNxygTQZSQ"
      },
      "execution_count": null,
      "outputs": []
    }
  ]
}